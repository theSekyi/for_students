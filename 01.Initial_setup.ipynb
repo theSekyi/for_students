{
 "cells": [
  {
   "cell_type": "code",
   "execution_count": 3,
   "id": "00ca34c9-402a-4089-9fdf-01297a879502",
   "metadata": {},
   "outputs": [],
   "source": [
    "#!pip install pandas"
   ]
  },
  {
   "cell_type": "code",
   "execution_count": 1,
   "id": "33788445-765d-4276-903c-bd9cc9791f27",
   "metadata": {},
   "outputs": [],
   "source": [
    "import pandas as pd"
   ]
  },
  {
   "cell_type": "code",
   "execution_count": 3,
   "id": "8a4deca4-4b2d-40a6-9c4a-5576db9ec7b7",
   "metadata": {},
   "outputs": [],
   "source": [
    "df_history = pd.read_csv(\"historic_data.csv\")\n",
    "df_values = pd.read_csv(\"value_types.csv\")"
   ]
  },
  {
   "cell_type": "code",
   "execution_count": 5,
   "id": "179e7a8b-19da-4bef-91b2-d797d8eb54c1",
   "metadata": {},
   "outputs": [
    {
     "data": {
      "text/html": [
       "<div>\n",
       "<style scoped>\n",
       "    .dataframe tbody tr th:only-of-type {\n",
       "        vertical-align: middle;\n",
       "    }\n",
       "\n",
       "    .dataframe tbody tr th {\n",
       "        vertical-align: top;\n",
       "    }\n",
       "\n",
       "    .dataframe thead th {\n",
       "        text-align: right;\n",
       "    }\n",
       "</style>\n",
       "<table border=\"1\" class=\"dataframe\">\n",
       "  <thead>\n",
       "    <tr style=\"text-align: right;\">\n",
       "      <th></th>\n",
       "      <th>2011-07-01 00:00:00</th>\n",
       "      <th>1</th>\n",
       "      <th>16.0</th>\n",
       "    </tr>\n",
       "  </thead>\n",
       "  <tbody>\n",
       "    <tr>\n",
       "      <th>0</th>\n",
       "      <td>2011-07-01 00:00:00</td>\n",
       "      <td>2</td>\n",
       "      <td>28.0</td>\n",
       "    </tr>\n",
       "    <tr>\n",
       "      <th>1</th>\n",
       "      <td>2011-07-01 00:00:00</td>\n",
       "      <td>3</td>\n",
       "      <td>215.0</td>\n",
       "    </tr>\n",
       "    <tr>\n",
       "      <th>2</th>\n",
       "      <td>2011-07-01 00:00:00</td>\n",
       "      <td>4</td>\n",
       "      <td>0.1</td>\n",
       "    </tr>\n",
       "    <tr>\n",
       "      <th>3</th>\n",
       "      <td>2011-07-01 00:00:00</td>\n",
       "      <td>5</td>\n",
       "      <td>82.0</td>\n",
       "    </tr>\n",
       "    <tr>\n",
       "      <th>4</th>\n",
       "      <td>2011-07-01 00:00:00</td>\n",
       "      <td>6</td>\n",
       "      <td>10.0</td>\n",
       "    </tr>\n",
       "  </tbody>\n",
       "</table>\n",
       "</div>"
      ],
      "text/plain": [
       "   2011-07-01 00:00:00  1   16.0\n",
       "0  2011-07-01 00:00:00  2   28.0\n",
       "1  2011-07-01 00:00:00  3  215.0\n",
       "2  2011-07-01 00:00:00  4    0.1\n",
       "3  2011-07-01 00:00:00  5   82.0\n",
       "4  2011-07-01 00:00:00  6   10.0"
      ]
     },
     "execution_count": 5,
     "metadata": {},
     "output_type": "execute_result"
    }
   ],
   "source": [
    "df_history.head()"
   ]
  },
  {
   "cell_type": "code",
   "execution_count": 7,
   "id": "bfc0c0ca-55c7-4dda-9fc4-1c266cf3e849",
   "metadata": {},
   "outputs": [
    {
     "data": {
      "text/html": [
       "<div>\n",
       "<style scoped>\n",
       "    .dataframe tbody tr th:only-of-type {\n",
       "        vertical-align: middle;\n",
       "    }\n",
       "\n",
       "    .dataframe tbody tr th {\n",
       "        vertical-align: top;\n",
       "    }\n",
       "\n",
       "    .dataframe thead th {\n",
       "        text-align: right;\n",
       "    }\n",
       "</style>\n",
       "<table border=\"1\" class=\"dataframe\">\n",
       "  <thead>\n",
       "    <tr style=\"text-align: right;\">\n",
       "      <th></th>\n",
       "      <th>1</th>\n",
       "      <th>temperature</th>\n",
       "      <th>the average temperature in degrees celcius</th>\n",
       "    </tr>\n",
       "  </thead>\n",
       "  <tbody>\n",
       "    <tr>\n",
       "      <th>0</th>\n",
       "      <td>2</td>\n",
       "      <td>wind_speed</td>\n",
       "      <td>the average wind speed in kilometers per hour</td>\n",
       "    </tr>\n",
       "    <tr>\n",
       "      <th>1</th>\n",
       "      <td>3</td>\n",
       "      <td>wind_direction</td>\n",
       "      <td>the compus bearing from where the wind is comi...</td>\n",
       "    </tr>\n",
       "    <tr>\n",
       "      <th>2</th>\n",
       "      <td>4</td>\n",
       "      <td>precipitation</td>\n",
       "      <td>the total rainfall in mm</td>\n",
       "    </tr>\n",
       "    <tr>\n",
       "      <th>3</th>\n",
       "      <td>5</td>\n",
       "      <td>humidity</td>\n",
       "      <td>the relative humidity</td>\n",
       "    </tr>\n",
       "    <tr>\n",
       "      <th>4</th>\n",
       "      <td>6</td>\n",
       "      <td>visibility</td>\n",
       "      <td>the distance in kilometers</td>\n",
       "    </tr>\n",
       "    <tr>\n",
       "      <th>5</th>\n",
       "      <td>7</td>\n",
       "      <td>pressure</td>\n",
       "      <td>the average air pressure in millibars</td>\n",
       "    </tr>\n",
       "    <tr>\n",
       "      <th>6</th>\n",
       "      <td>8</td>\n",
       "      <td>cloud_cover</td>\n",
       "      <td>the average cloud cover percentage</td>\n",
       "    </tr>\n",
       "    <tr>\n",
       "      <th>7</th>\n",
       "      <td>9</td>\n",
       "      <td>dew_point</td>\n",
       "      <td>the dew point in degrees celcius</td>\n",
       "    </tr>\n",
       "    <tr>\n",
       "      <th>8</th>\n",
       "      <td>10</td>\n",
       "      <td>wind_gust</td>\n",
       "      <td>the maximum wind gust speed in kilometers per ...</td>\n",
       "    </tr>\n",
       "  </tbody>\n",
       "</table>\n",
       "</div>"
      ],
      "text/plain": [
       "    1     temperature         the average temperature in degrees celcius\n",
       "0   2      wind_speed      the average wind speed in kilometers per hour\n",
       "1   3  wind_direction  the compus bearing from where the wind is comi...\n",
       "2   4   precipitation                           the total rainfall in mm\n",
       "3   5        humidity                              the relative humidity\n",
       "4   6      visibility                         the distance in kilometers\n",
       "5   7        pressure              the average air pressure in millibars\n",
       "6   8     cloud_cover                 the average cloud cover percentage\n",
       "7   9       dew_point                   the dew point in degrees celcius\n",
       "8  10       wind_gust  the maximum wind gust speed in kilometers per ..."
      ]
     },
     "execution_count": 7,
     "metadata": {},
     "output_type": "execute_result"
    }
   ],
   "source": [
    "df_values.head(10)"
   ]
  },
  {
   "cell_type": "code",
   "execution_count": 8,
   "id": "6b82e27d-9d8d-4a79-80c7-01c7da3377b8",
   "metadata": {},
   "outputs": [
    {
     "data": {
      "text/plain": [
       "(9, 3)"
      ]
     },
     "execution_count": 8,
     "metadata": {},
     "output_type": "execute_result"
    }
   ],
   "source": [
    "df_values.shape"
   ]
  },
  {
   "cell_type": "code",
   "execution_count": 9,
   "id": "c38af95a-faae-4d78-a3fb-5ce0167b30ac",
   "metadata": {},
   "outputs": [
    {
     "data": {
      "text/plain": [
       "(642479, 3)"
      ]
     },
     "execution_count": 9,
     "metadata": {},
     "output_type": "execute_result"
    }
   ],
   "source": [
    "df_history.shape"
   ]
  },
  {
   "cell_type": "code",
   "execution_count": null,
   "id": "a3c0ecaf-c5c6-4560-b3a1-a554a8496c31",
   "metadata": {},
   "outputs": [],
   "source": []
  },
  {
   "cell_type": "code",
   "execution_count": null,
   "id": "1eb38794-8952-448e-9dbb-6633abc2230c",
   "metadata": {},
   "outputs": [],
   "source": []
  },
  {
   "cell_type": "code",
   "execution_count": null,
   "id": "c203be27-a52e-442d-a9d4-88a97dac53d9",
   "metadata": {},
   "outputs": [],
   "source": []
  }
 ],
 "metadata": {
  "kernelspec": {
   "display_name": "Python 3",
   "language": "python",
   "name": "python3"
  },
  "language_info": {
   "codemirror_mode": {
    "name": "ipython",
    "version": 3
   },
   "file_extension": ".py",
   "mimetype": "text/x-python",
   "name": "python",
   "nbconvert_exporter": "python",
   "pygments_lexer": "ipython3",
   "version": "3.8.5"
  }
 },
 "nbformat": 4,
 "nbformat_minor": 5
}
