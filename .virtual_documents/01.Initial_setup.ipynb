#!pip install pandas


import pandas as pd


df = pd.read_csv("df_combined.csv")


df.head(20)


df['timestamp'] = pd.to_datetime(df['timestamp'])


def return_value(x):
    return x


df_flipped = pd.pivot_table(df,values='value', index=['timestamp'],columns=['name'],aggfunc=return_value).reset_index()


df_flipped.to_csv("df.csv",index=False)


df = pd.read_csv("df.csv")
df.tail()



24 * 365 * 7


61320 * 900























df_example.head()


import numpy as np


table = pd.pivot_table(df_example, values='D', index=[ 'B'],
                    columns=['C'], aggfunc=np.sum)


table


df_stackoverflow = pd.DataFrame({'col1': [1, 1, 2, 3], 'col2': [4, 4, 5, 6], 'col3': [7, 10, 8, 9]})
df_stackoverflow





q






