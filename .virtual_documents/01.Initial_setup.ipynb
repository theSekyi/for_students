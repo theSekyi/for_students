#!pip install pandas


import pandas as pd


df_history = pd.read_csv("historic_data.csv")
df_values = pd.read_csv("value_types.csv")


df_history.head()


df_values.head(10)


df_values.shape


df_history.shape









